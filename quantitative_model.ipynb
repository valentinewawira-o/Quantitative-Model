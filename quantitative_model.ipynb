{
 "cells": [
  {
   "cell_type": "markdown",
   "metadata": {},
   "source": [
    "## <b><u> Time series Forecasting for Favorita Store Sales </b></u>\n",
    "   - `In this project we will be building a regression model and understand hw to use it`\n",
    "   - `We will also examine the correlation coeffcient,multiple regression  and logisti regression methods`\n",
    "   - `using logistic regression we will be able to estimate the probability of the business success over give period of time`\n",
    "   - `finally; develop a time series Analysis`\n",
    "\n"
   ]
  },
  {
   "cell_type": "markdown",
   "metadata": {},
   "source": [
    "### <u><b><i> Description </u></b></i>\n",
    "` As a data scientist, I will be looking at a favorita  grocery stores data  and predict a little over time based on th sales performance previously... </ `\n",
    " - The Favorita Grocery Sales Forecasting competition is a time series forecasting competition hosted by the Favorita Food Markets Association. The goal is to predict the sales of various products sold in multiple locations over time. The dataset provided includes sales data, promotions, and other relevant features.\n",
    " - `The dataset includes;;;;;;;;;;;;`\n",
    "- train.csv: includes store_number, family, onpromotion and target sales\n",
    "- test.csv: same as train.csv(predict sales data)\n",
    "- transaction.csv: date,store_number,transation \n",
    "- sample_submission.csv: \n",
    "- stores.csv: store metabase including city, state,type and cluster\n",
    " - oils.csv: daily oil price\n",
    " - holidays_events.csv: Holidays events\n",
    " ## Questions\n",
    " 1. Is the train dataset complete (has all the required dates)?\n",
    " 2. Which dates have the lowest and highest sales for each year (excluding days the store was closed)\n",
    " 3. Compare the sales for each month across the years and determine which month of which year had the highest sales. \n",
    " 4. Did the earthquake impact sales?\n",
    " 5. Are certain stores or groups of stores selling more products? (Cluster, city, state, type)\n",
    " 6. Are sales affected by promotions, oil prices and holidays\n",
    " 7. What analysis can we get from the date and its extractable features?\n",
    " 8. Which product family and stores did the promotions affect.\n",
    " 9. What is the difference between RMSLE, RMSE, MSE (or why is the MAE greater than all of them?)\n",
    " 10. Does the payment of wages in the public sector on the 15th and last days of the month influence the store sales.\n",
    " ### <u><b><i> HYPOTHESIS</u></b></i>\n",
    "Null hypothesis;`The type of holiday does not have any significance on the increase of sales`\n",
    "Alternative hypothesis; `The type of holiday do have significant on the increase of sales`"
   ]
  },
  {
   "cell_type": "code",
   "execution_count": 46,
   "metadata": {},
   "outputs": [],
   "source": [
    "#installing pyodbc & python-dotenv\n",
    "import pyodbc\n",
    "from dotenv import dotenv_values\n",
    "import pandas as pd\n",
    "import warnings\n",
    "warnings.filterwarnings(\"ignore\")\n",
    "from statsmodels.tsa.stattools import adfuller\n",
    "from pmdarima import auto_arima\n",
    "from statsmodels.tsa.arima.model import ARIMA\n",
    "import matplotlib.pyplot as plt"
   ]
  },
  {
   "cell_type": "code",
   "execution_count": 22,
   "metadata": {},
   "outputs": [],
   "source": [
    "#load environment variable from .env file\n",
    "environment_variable =dotenv_values('.env')\n",
    "#we get the credentails  fro th env file\n",
    "database=environment_variable.get('DATABASE')\n",
    "server=environment_variable.get('SERVER')\n",
    "username=environment_variable.get('USERNAME')\n",
    "password=environment_variable.get('PASSWORD')\n",
    "# Establish connection\n",
    "connection_string= f\"DRIVER={{SQL Server}};SERVER={server};DATABASE={database};UID={username};PWD={password};MARS_Connection=yes;MinProtocolVersion=TLSv1.2;\""
   ]
  },
  {
   "cell_type": "code",
   "execution_count": 23,
   "metadata": {},
   "outputs": [],
   "source": [
    "#We need to use the connection method that is the pyodbc library\n",
    "connection=pyodbc.connect(connection_string)"
   ]
  },
  {
   "cell_type": "code",
   "execution_count": 24,
   "metadata": {},
   "outputs": [],
   "source": [
    "#SQL query to get the dat \n",
    "query_oil=\"SELECT* FROM dbo.oil\"\n",
    "query_stores=\"SELECT* FROM dbo.stores\"\n",
    "query_holidays_events=\"SELECT* FROM dbo.holidays_events\"\n",
    "df_oil=pd.read_sql(query_oil,connection)\n",
    "df_stores=pd.read_sql(query_stores,connection)\n",
    "df_holidays_events=pd.read_sql(query_holidays_events,connection)\n",
    "# Close the connection\n",
    "\n",
    "\n",
    "\n"
   ]
  },
  {
   "cell_type": "code",
   "execution_count": 25,
   "metadata": {},
   "outputs": [],
   "source": [
    "#load csv data set\n",
    "df_submission=pd.read_csv(\"sample_submission (1).csv\")\n",
    "df_test=pd.read_csv(\"test (1).csv\")\n",
    "df_transaction=pd.read_csv(\"transactions.csv\")\n",
    "\n"
   ]
  },
  {
   "cell_type": "code",
   "execution_count": 26,
   "metadata": {},
   "outputs": [
    {
     "name": "stdout",
     "output_type": "stream",
     "text": [
      "holiday summary:\n"
     ]
    },
    {
     "data": {
      "text/html": [
       "<div>\n",
       "<style scoped>\n",
       "    .dataframe tbody tr th:only-of-type {\n",
       "        vertical-align: middle;\n",
       "    }\n",
       "\n",
       "    .dataframe tbody tr th {\n",
       "        vertical-align: top;\n",
       "    }\n",
       "\n",
       "    .dataframe thead th {\n",
       "        text-align: right;\n",
       "    }\n",
       "</style>\n",
       "<table border=\"1\" class=\"dataframe\">\n",
       "  <thead>\n",
       "    <tr style=\"text-align: right;\">\n",
       "      <th></th>\n",
       "      <th>count</th>\n",
       "      <th>unique</th>\n",
       "      <th>top</th>\n",
       "      <th>freq</th>\n",
       "    </tr>\n",
       "  </thead>\n",
       "  <tbody>\n",
       "    <tr>\n",
       "      <th>date</th>\n",
       "      <td>350</td>\n",
       "      <td>312</td>\n",
       "      <td>2014-06-25</td>\n",
       "      <td>4</td>\n",
       "    </tr>\n",
       "    <tr>\n",
       "      <th>type</th>\n",
       "      <td>350</td>\n",
       "      <td>6</td>\n",
       "      <td>Holiday</td>\n",
       "      <td>221</td>\n",
       "    </tr>\n",
       "    <tr>\n",
       "      <th>locale</th>\n",
       "      <td>350</td>\n",
       "      <td>3</td>\n",
       "      <td>National</td>\n",
       "      <td>174</td>\n",
       "    </tr>\n",
       "    <tr>\n",
       "      <th>locale_name</th>\n",
       "      <td>350</td>\n",
       "      <td>24</td>\n",
       "      <td>Ecuador</td>\n",
       "      <td>174</td>\n",
       "    </tr>\n",
       "    <tr>\n",
       "      <th>description</th>\n",
       "      <td>350</td>\n",
       "      <td>103</td>\n",
       "      <td>Carnaval</td>\n",
       "      <td>10</td>\n",
       "    </tr>\n",
       "    <tr>\n",
       "      <th>transferred</th>\n",
       "      <td>350</td>\n",
       "      <td>2</td>\n",
       "      <td>False</td>\n",
       "      <td>338</td>\n",
       "    </tr>\n",
       "  </tbody>\n",
       "</table>\n",
       "</div>"
      ],
      "text/plain": [
       "            count unique         top freq\n",
       "date          350    312  2014-06-25    4\n",
       "type          350      6     Holiday  221\n",
       "locale        350      3    National  174\n",
       "locale_name   350     24     Ecuador  174\n",
       "description   350    103    Carnaval   10\n",
       "transferred   350      2       False  338"
      ]
     },
     "metadata": {},
     "output_type": "display_data"
    },
    {
     "name": "stdout",
     "output_type": "stream",
     "text": [
      "****************************************\n",
      "Store Summary:\n"
     ]
    },
    {
     "data": {
      "text/html": [
       "<div>\n",
       "<style scoped>\n",
       "    .dataframe tbody tr th:only-of-type {\n",
       "        vertical-align: middle;\n",
       "    }\n",
       "\n",
       "    .dataframe tbody tr th {\n",
       "        vertical-align: top;\n",
       "    }\n",
       "\n",
       "    .dataframe thead th {\n",
       "        text-align: right;\n",
       "    }\n",
       "</style>\n",
       "<table border=\"1\" class=\"dataframe\">\n",
       "  <thead>\n",
       "    <tr style=\"text-align: right;\">\n",
       "      <th></th>\n",
       "      <th>count</th>\n",
       "      <th>mean</th>\n",
       "      <th>std</th>\n",
       "      <th>min</th>\n",
       "      <th>25%</th>\n",
       "      <th>50%</th>\n",
       "      <th>75%</th>\n",
       "      <th>max</th>\n",
       "    </tr>\n",
       "  </thead>\n",
       "  <tbody>\n",
       "    <tr>\n",
       "      <th>store_nbr</th>\n",
       "      <td>54.0</td>\n",
       "      <td>27.500000</td>\n",
       "      <td>15.732133</td>\n",
       "      <td>1.0</td>\n",
       "      <td>14.25</td>\n",
       "      <td>27.5</td>\n",
       "      <td>40.75</td>\n",
       "      <td>54.0</td>\n",
       "    </tr>\n",
       "    <tr>\n",
       "      <th>cluster</th>\n",
       "      <td>54.0</td>\n",
       "      <td>8.481481</td>\n",
       "      <td>4.693395</td>\n",
       "      <td>1.0</td>\n",
       "      <td>4.00</td>\n",
       "      <td>8.5</td>\n",
       "      <td>13.00</td>\n",
       "      <td>17.0</td>\n",
       "    </tr>\n",
       "  </tbody>\n",
       "</table>\n",
       "</div>"
      ],
      "text/plain": [
       "           count       mean        std  min    25%   50%    75%   max\n",
       "store_nbr   54.0  27.500000  15.732133  1.0  14.25  27.5  40.75  54.0\n",
       "cluster     54.0   8.481481   4.693395  1.0   4.00   8.5  13.00  17.0"
      ]
     },
     "metadata": {},
     "output_type": "display_data"
    },
    {
     "name": "stdout",
     "output_type": "stream",
     "text": [
      "$$$$$$$$$$$$$$$$$$$$$$$$$$$$$$$$$$$$$$$$\n",
      "oil summary:\n"
     ]
    },
    {
     "data": {
      "text/html": [
       "<div>\n",
       "<style scoped>\n",
       "    .dataframe tbody tr th:only-of-type {\n",
       "        vertical-align: middle;\n",
       "    }\n",
       "\n",
       "    .dataframe tbody tr th {\n",
       "        vertical-align: top;\n",
       "    }\n",
       "\n",
       "    .dataframe thead th {\n",
       "        text-align: right;\n",
       "    }\n",
       "</style>\n",
       "<table border=\"1\" class=\"dataframe\">\n",
       "  <thead>\n",
       "    <tr style=\"text-align: right;\">\n",
       "      <th></th>\n",
       "      <th>count</th>\n",
       "      <th>mean</th>\n",
       "      <th>std</th>\n",
       "      <th>min</th>\n",
       "      <th>25%</th>\n",
       "      <th>50%</th>\n",
       "      <th>75%</th>\n",
       "      <th>max</th>\n",
       "    </tr>\n",
       "  </thead>\n",
       "  <tbody>\n",
       "    <tr>\n",
       "      <th>dcoilwtico</th>\n",
       "      <td>1175.0</td>\n",
       "      <td>67.714366</td>\n",
       "      <td>25.630476</td>\n",
       "      <td>26.190001</td>\n",
       "      <td>46.405001</td>\n",
       "      <td>53.189999</td>\n",
       "      <td>95.66</td>\n",
       "      <td>110.620003</td>\n",
       "    </tr>\n",
       "  </tbody>\n",
       "</table>\n",
       "</div>"
      ],
      "text/plain": [
       "             count       mean        std        min        25%        50%  \\\n",
       "dcoilwtico  1175.0  67.714366  25.630476  26.190001  46.405001  53.189999   \n",
       "\n",
       "              75%         max  \n",
       "dcoilwtico  95.66  110.620003  "
      ]
     },
     "metadata": {},
     "output_type": "display_data"
    },
    {
     "name": "stdout",
     "output_type": "stream",
     "text": [
      "----------------------------------------\n"
     ]
    }
   ],
   "source": [
    "##sql EDA\n",
    "#summary statisitcs for th column\n",
    "oil_sum=df_oil.describe().T\n",
    "event_sum=df_holidays_events.describe().T\n",
    "store_sum=df_stores.describe().T\n",
    "##result\n",
    "print(\"holiday summary:\")\n",
    "display(event_sum)\n",
    "print('*'*40)\n",
    "print(\"Store Summary:\")\n",
    "display(store_sum)\n",
    "print('$'*40)\n",
    "print(\"oil summary:\")\n",
    "display(oil_sum)\n",
    "print('-'*40)\n",
    "\n",
    "\n"
   ]
  },
  {
   "cell_type": "code",
   "execution_count": 27,
   "metadata": {},
   "outputs": [
    {
     "name": "stdout",
     "output_type": "stream",
     "text": [
      "event missing values:\n"
     ]
    },
    {
     "data": {
      "text/plain": [
       "date           0\n",
       "type           0\n",
       "locale         0\n",
       "locale_name    0\n",
       "description    0\n",
       "transferred    0\n",
       "dtype: int64"
      ]
     },
     "metadata": {},
     "output_type": "display_data"
    },
    {
     "name": "stdout",
     "output_type": "stream",
     "text": [
      "****************************************\n",
      "oil missing values:\n"
     ]
    },
    {
     "data": {
      "text/plain": [
       "date           0\n",
       "dcoilwtico    43\n",
       "dtype: int64"
      ]
     },
     "metadata": {},
     "output_type": "display_data"
    },
    {
     "name": "stdout",
     "output_type": "stream",
     "text": [
      "****************************************\n",
      "store missing values:\n"
     ]
    },
    {
     "data": {
      "text/plain": [
       "store_nbr    0\n",
       "city         0\n",
       "state        0\n",
       "type         0\n",
       "cluster      0\n",
       "dtype: int64"
      ]
     },
     "metadata": {},
     "output_type": "display_data"
    },
    {
     "name": "stdout",
     "output_type": "stream",
     "text": [
      "****************************************\n"
     ]
    }
   ],
   "source": [
    "#missing values\n",
    "print(\"event missing values:\")\n",
    "events_missing=df_holidays_events.isnull().sum()\n",
    "display(events_missing)\n",
    "print('*'*40)\n",
    "print(\"oil missing values:\")\n",
    "oil_missing=df_oil.isnull().sum()\n",
    "display(oil_missing)\n",
    "print('*'*40)\n",
    "print(\"store missing values:\")\n",
    "store_missing=df_stores.isnull().sum()\n",
    "display(store_missing)\n",
    "print('*'*40)"
   ]
  },
  {
   "cell_type": "code",
   "execution_count": 28,
   "metadata": {},
   "outputs": [
    {
     "name": "stdout",
     "output_type": "stream",
     "text": [
      "holiday shape:\n",
      "****************************************\n",
      "rows: 350\n",
      "column 6\n",
      "oil shape:\n",
      "****************************************\n",
      "rows: 1218\n",
      "column 2\n",
      "store shape:\n",
      "<><><><><><><><><><><><><><><><><><><><><><><><><><><><><><><><><><><><><><><><>\n",
      "rows: 54\n",
      "column: 5\n"
     ]
    }
   ],
   "source": [
    "print(\"holiday shape:\")\n",
    "print('*'*40)\n",
    "holiday_shape=df_holidays_events.shape\n",
    "print(\"rows:\",holiday_shape[0])\n",
    "print(\"column\",holiday_shape[1])\n",
    "#oilshape\n",
    "print(\"oil shape:\")\n",
    "print('*'*40)\n",
    "oil_shape=df_oil.shape\n",
    "print(\"rows:\",oil_shape[0])\n",
    "print(\"column\",oil_shape[1])\n",
    "\n",
    "#store shape\n",
    "print(\"store shape:\")\n",
    "print(\"<>\"*40)\n",
    "store_shape=df_stores.shape\n",
    "print(\"rows:\",store_shape[0])\n",
    "print(\"column:\",store_shape[1])\n",
    "\n"
   ]
  },
  {
   "cell_type": "markdown",
   "metadata": {},
   "source": [
    "#### <i><u> SCV EDA </u></i>"
   ]
  },
  {
   "cell_type": "code",
   "execution_count": 29,
   "metadata": {},
   "outputs": [
    {
     "name": "stdout",
     "output_type": "stream",
     "text": [
      "transaction summary:\n"
     ]
    },
    {
     "data": {
      "text/html": [
       "<div>\n",
       "<style scoped>\n",
       "    .dataframe tbody tr th:only-of-type {\n",
       "        vertical-align: middle;\n",
       "    }\n",
       "\n",
       "    .dataframe tbody tr th {\n",
       "        vertical-align: top;\n",
       "    }\n",
       "\n",
       "    .dataframe thead th {\n",
       "        text-align: right;\n",
       "    }\n",
       "</style>\n",
       "<table border=\"1\" class=\"dataframe\">\n",
       "  <thead>\n",
       "    <tr style=\"text-align: right;\">\n",
       "      <th></th>\n",
       "      <th>count</th>\n",
       "      <th>mean</th>\n",
       "      <th>std</th>\n",
       "      <th>min</th>\n",
       "      <th>25%</th>\n",
       "      <th>50%</th>\n",
       "      <th>75%</th>\n",
       "      <th>max</th>\n",
       "    </tr>\n",
       "  </thead>\n",
       "  <tbody>\n",
       "    <tr>\n",
       "      <th>store_nbr</th>\n",
       "      <td>83488.0</td>\n",
       "      <td>26.939237</td>\n",
       "      <td>15.608204</td>\n",
       "      <td>1.0</td>\n",
       "      <td>13.0</td>\n",
       "      <td>27.0</td>\n",
       "      <td>40.0</td>\n",
       "      <td>54.0</td>\n",
       "    </tr>\n",
       "    <tr>\n",
       "      <th>transactions</th>\n",
       "      <td>83488.0</td>\n",
       "      <td>1694.602158</td>\n",
       "      <td>963.286644</td>\n",
       "      <td>5.0</td>\n",
       "      <td>1046.0</td>\n",
       "      <td>1393.0</td>\n",
       "      <td>2079.0</td>\n",
       "      <td>8359.0</td>\n",
       "    </tr>\n",
       "  </tbody>\n",
       "</table>\n",
       "</div>"
      ],
      "text/plain": [
       "                count         mean         std  min     25%     50%     75%  \\\n",
       "store_nbr     83488.0    26.939237   15.608204  1.0    13.0    27.0    40.0   \n",
       "transactions  83488.0  1694.602158  963.286644  5.0  1046.0  1393.0  2079.0   \n",
       "\n",
       "                 max  \n",
       "store_nbr       54.0  \n",
       "transactions  8359.0  "
      ]
     },
     "metadata": {},
     "output_type": "display_data"
    },
    {
     "name": "stdout",
     "output_type": "stream",
     "text": [
      "**************************************************\n",
      "submission summary:\n"
     ]
    },
    {
     "data": {
      "text/html": [
       "<div>\n",
       "<style scoped>\n",
       "    .dataframe tbody tr th:only-of-type {\n",
       "        vertical-align: middle;\n",
       "    }\n",
       "\n",
       "    .dataframe tbody tr th {\n",
       "        vertical-align: top;\n",
       "    }\n",
       "\n",
       "    .dataframe thead th {\n",
       "        text-align: right;\n",
       "    }\n",
       "</style>\n",
       "<table border=\"1\" class=\"dataframe\">\n",
       "  <thead>\n",
       "    <tr style=\"text-align: right;\">\n",
       "      <th></th>\n",
       "      <th>count</th>\n",
       "      <th>mean</th>\n",
       "      <th>std</th>\n",
       "      <th>min</th>\n",
       "      <th>25%</th>\n",
       "      <th>50%</th>\n",
       "      <th>75%</th>\n",
       "      <th>max</th>\n",
       "    </tr>\n",
       "  </thead>\n",
       "  <tbody>\n",
       "    <tr>\n",
       "      <th>id</th>\n",
       "      <td>28512.0</td>\n",
       "      <td>3015143.5</td>\n",
       "      <td>8230.849774</td>\n",
       "      <td>3000888.0</td>\n",
       "      <td>3008015.75</td>\n",
       "      <td>3015143.5</td>\n",
       "      <td>3022271.25</td>\n",
       "      <td>3029399.0</td>\n",
       "    </tr>\n",
       "    <tr>\n",
       "      <th>sales</th>\n",
       "      <td>28512.0</td>\n",
       "      <td>0.0</td>\n",
       "      <td>0.000000</td>\n",
       "      <td>0.0</td>\n",
       "      <td>0.00</td>\n",
       "      <td>0.0</td>\n",
       "      <td>0.00</td>\n",
       "      <td>0.0</td>\n",
       "    </tr>\n",
       "  </tbody>\n",
       "</table>\n",
       "</div>"
      ],
      "text/plain": [
       "         count       mean          std        min         25%        50%  \\\n",
       "id     28512.0  3015143.5  8230.849774  3000888.0  3008015.75  3015143.5   \n",
       "sales  28512.0        0.0     0.000000        0.0        0.00        0.0   \n",
       "\n",
       "              75%        max  \n",
       "id     3022271.25  3029399.0  \n",
       "sales        0.00        0.0  "
      ]
     },
     "metadata": {},
     "output_type": "display_data"
    },
    {
     "name": "stdout",
     "output_type": "stream",
     "text": [
      "**************************************************\n",
      "test summary:\n"
     ]
    },
    {
     "data": {
      "text/html": [
       "<div>\n",
       "<style scoped>\n",
       "    .dataframe tbody tr th:only-of-type {\n",
       "        vertical-align: middle;\n",
       "    }\n",
       "\n",
       "    .dataframe tbody tr th {\n",
       "        vertical-align: top;\n",
       "    }\n",
       "\n",
       "    .dataframe thead th {\n",
       "        text-align: right;\n",
       "    }\n",
       "</style>\n",
       "<table border=\"1\" class=\"dataframe\">\n",
       "  <thead>\n",
       "    <tr style=\"text-align: right;\">\n",
       "      <th></th>\n",
       "      <th>count</th>\n",
       "      <th>mean</th>\n",
       "      <th>std</th>\n",
       "      <th>min</th>\n",
       "      <th>25%</th>\n",
       "      <th>50%</th>\n",
       "      <th>75%</th>\n",
       "      <th>max</th>\n",
       "    </tr>\n",
       "  </thead>\n",
       "  <tbody>\n",
       "    <tr>\n",
       "      <th>id</th>\n",
       "      <td>28512.0</td>\n",
       "      <td>3.015144e+06</td>\n",
       "      <td>8230.849774</td>\n",
       "      <td>3000888.0</td>\n",
       "      <td>3008015.75</td>\n",
       "      <td>3015143.5</td>\n",
       "      <td>3022271.25</td>\n",
       "      <td>3029399.0</td>\n",
       "    </tr>\n",
       "    <tr>\n",
       "      <th>store_nbr</th>\n",
       "      <td>28512.0</td>\n",
       "      <td>2.750000e+01</td>\n",
       "      <td>15.586057</td>\n",
       "      <td>1.0</td>\n",
       "      <td>14.00</td>\n",
       "      <td>27.5</td>\n",
       "      <td>41.00</td>\n",
       "      <td>54.0</td>\n",
       "    </tr>\n",
       "    <tr>\n",
       "      <th>onpromotion</th>\n",
       "      <td>28512.0</td>\n",
       "      <td>6.965383e+00</td>\n",
       "      <td>20.683952</td>\n",
       "      <td>0.0</td>\n",
       "      <td>0.00</td>\n",
       "      <td>0.0</td>\n",
       "      <td>6.00</td>\n",
       "      <td>646.0</td>\n",
       "    </tr>\n",
       "  </tbody>\n",
       "</table>\n",
       "</div>"
      ],
      "text/plain": [
       "               count          mean          std        min         25%  \\\n",
       "id           28512.0  3.015144e+06  8230.849774  3000888.0  3008015.75   \n",
       "store_nbr    28512.0  2.750000e+01    15.586057        1.0       14.00   \n",
       "onpromotion  28512.0  6.965383e+00    20.683952        0.0        0.00   \n",
       "\n",
       "                   50%         75%        max  \n",
       "id           3015143.5  3022271.25  3029399.0  \n",
       "store_nbr         27.5       41.00       54.0  \n",
       "onpromotion        0.0        6.00      646.0  "
      ]
     },
     "metadata": {},
     "output_type": "display_data"
    }
   ],
   "source": [
    "## SCV SUMMARY STATTISITCS \n",
    "transaction_summary= df_transaction.describe().T \n",
    "#Test summary\n",
    "test_summary=df_test.describe().T\n",
    "\n",
    "#Submission summary\n",
    "submission_summary=df_submission.describe().T\n",
    "\n",
    "#print summary\n",
    "print(\"transaction summary:\")\n",
    "display(transaction_summary)\n",
    "print(\"*\"*50)\n",
    "\n",
    "print(\"submission summary:\")\n",
    "display(submission_summary)\n",
    "print(\"*\"*50)\n",
    "\n",
    "print(\"test summary:\")\n",
    "display(test_summary)\n",
    "\n"
   ]
  },
  {
   "cell_type": "code",
   "execution_count": 30,
   "metadata": {},
   "outputs": [
    {
     "name": "stdout",
     "output_type": "stream",
     "text": [
      "transaction rows:(83488, 3)\n",
      "submission shape:(28512, 2)\n",
      "test shape:(28512, 5)\n"
     ]
    }
   ],
   "source": [
    "#shape check\n",
    "print(f\"transaction rows:{df_transaction.shape}\")\n",
    "print(f\"submission shape:{df_submission.shape}\")\n",
    "print(f\"test shape:{df_test.shape}\")"
   ]
  },
  {
   "cell_type": "code",
   "execution_count": 31,
   "metadata": {},
   "outputs": [
    {
     "name": "stdout",
     "output_type": "stream",
     "text": [
      "transcaction missing values:date            0\n",
      "store_nbr       0\n",
      "transactions    0\n",
      "dtype: int64\n",
      "submission missing dataid       0\n",
      "sales    0\n",
      "dtype: int64\n",
      "test missing values:id             0\n",
      "date           0\n",
      "store_nbr      0\n",
      "family         0\n",
      "onpromotion    0\n",
      "dtype: int64\n"
     ]
    }
   ],
   "source": [
    "#Missing values\n",
    "print(f\"transcaction missing values:{df_transaction.isna().sum()}\")\n",
    "print(f\"submission missing data{df_submission.isna().sum()}\")\n",
    "print(f\"test missing values:{df_test.isna().sum()}\")\n",
    "\n"
   ]
  },
  {
   "cell_type": "markdown",
   "metadata": {},
   "source": [
    "#### <i><u> handling missing values</u></i>\n",
    "\n",
    "` for this case we have value mising on the dcoil on the data file and we will use back fill method because;`\n",
    "\n",
    "- because the data is a time sries  and missing values is due to temporary gaps like holidays or weekends \n",
    "- we will assume the secondly recorded values remains valid"
   ]
  },
  {
   "cell_type": "code",
   "execution_count": 32,
   "metadata": {},
   "outputs": [
    {
     "name": "stdout",
     "output_type": "stream",
     "text": [
      "filling missing data:0       93.139999\n",
      "1       93.139999\n",
      "2       92.970001\n",
      "3       93.120003\n",
      "4       93.199997\n",
      "          ...    \n",
      "1213    47.650002\n",
      "1214    46.400002\n",
      "1215    46.459999\n",
      "1216    45.959999\n",
      "1217    47.259998\n",
      "Name: dcoilwtico, Length: 1218, dtype: float64\n"
     ]
    }
   ],
   "source": [
    "#find missing values in the oil data file\n",
    "print(f\"filling missing data:{df_oil['dcoilwtico'].fillna( method='backfill')}\")"
   ]
  },
  {
   "cell_type": "code",
   "execution_count": 33,
   "metadata": {},
   "outputs": [
    {
     "name": "stdout",
     "output_type": "stream",
     "text": [
      "<class 'pandas.core.frame.DataFrame'>\n",
      "RangeIndex: 3000888 entries, 0 to 3000887\n",
      "Data columns (total 6 columns):\n",
      " #   Column       Dtype  \n",
      "---  ------       -----  \n",
      " 0   id           int64  \n",
      " 1   date         object \n",
      " 2   store_nbr    int64  \n",
      " 3   family       object \n",
      " 4   sales        float64\n",
      " 5   onpromotion  int64  \n",
      "dtypes: float64(1), int64(3), object(2)\n",
      "memory usage: 137.4+ MB\n"
     ]
    }
   ],
   "source": [
    "df_train=pd.read_csv(\"train.csv\")\n",
    "df_train.info()"
   ]
  },
  {
   "cell_type": "code",
   "execution_count": 34,
   "metadata": {},
   "outputs": [
    {
     "name": "stdout",
     "output_type": "stream",
     "text": [
      "min_date;2013-01-01,max date:2017-08-15\n",
      "                                                                                                                                                                                    \n",
      "missing date:DatetimeIndex(['2013-12-25', '2014-12-25', '2015-12-25', '2016-12-25'], dtype='datetime64[ns]', freq=None)\n"
     ]
    }
   ],
   "source": [
    "##change train data date type from object to dat type\n",
    "#check date completeness\n",
    "print (f\"min_date;{df_train['date'].min()},max date:{df_train['date'].max()}\")\n",
    "print(\"   \"*60)\n",
    "expected_date= pd.date_range(start=df_train['date'].min(), end=df_train['date'].max())\n",
    "mising_date=expected_date[~expected_date.isin(df_train['date'])]\n",
    "\n",
    "if len(mising_date)==0:\n",
    "    print(\"complete\")\n",
    "else:\n",
    "    print(f\"missing date:{mising_date}\")\n",
    "\n"
   ]
  },
  {
   "cell_type": "markdown",
   "metadata": {},
   "source": [
    "Train data has chrismas holiday as the  missing date"
   ]
  },
  {
   "cell_type": "code",
   "execution_count": 35,
   "metadata": {},
   "outputs": [],
   "source": [
    "# covert dates from object to datetim\n",
    "df_train['date']=pd.to_datetime(df_train['date'])\n",
    "\n",
    "#complete the missind dateby creating an index of missing dates\n",
    "missing_dates=pd.Index(['2013-12-25', '2014-12-25', '2015-12-25', '2016-12-25'], dtype='datetime64[ns]')\n",
    "\n",
    "#add the missing dates to the dataframe\n",
    "missing_data=pd.DataFrame({'date':missing_dates})\n",
    "#concat\n",
    "df_train=pd.concat([df_train,missing_data],ignore_index=True)\n",
    "\n",
    "#sort the dataframe by date\n",
    "\n",
    "df_train.sort_values(by='date', inplace=True)\n",
    "\n"
   ]
  },
  {
   "cell_type": "code",
   "execution_count": 36,
   "metadata": {},
   "outputs": [],
   "source": [
    "#set the date type in te csv file as  date type\n",
    "df_test=pd.read_csv(\"test (1).csv\",parse_dates=['date'])\n",
    "df_train=pd.read_csv(\"train.csv\",parse_dates=['date'])\n",
    "df_transaction=pd.read_csv(\"transactions.csv\",parse_dates=['date'])\n",
    "df_submission=pd.read_csv(\"sample_submission (1).csv\")"
   ]
  },
  {
   "cell_type": "markdown",
   "metadata": {},
   "source": [
    "### <b><u> Checking for stationarity</u></b>\n",
    "    - checking for stationarity in a time series column[date] is very necessary for understanding the statistical propertes of the dataset and dtermine in the appropriate model technidue to use\n",
    "A time series is statinary if the statisitical properties [mean,variance add covariance] remain consant over time\n",
    "- ARIMA and SARIMA models assume stationarity \n",
    "non-stationary data  can lead to invalid results"
   ]
  },
  {
   "cell_type": "code",
   "execution_count": 40,
   "metadata": {},
   "outputs": [
    {
     "name": "stdout",
     "output_type": "stream",
     "text": [
      "\n",
      "Stationarity check for: Transaction Data\n",
      "ADF Statistic: -16.5742\n",
      "p-value: 0.0000\n",
      "Critical Values: {'1%': -3.4304283896674406, '5%': -2.8615746469290144, '10%': -2.566788441361157}\n",
      "Reject null hypothesis (data is stationary).\n"
     ]
    }
   ],
   "source": [
    "# Define the function to check stationarity\n",
    "def check_stationarity(df, column, title=''):\n",
    "    \"\"\"\n",
    "    Checks stationarity of a numeric time series using the Augmented Dickey-Fuller test.\n",
    "    \"\"\"\n",
    "    print(f\"\\nStationarity check for: {title}\")\n",
    "    \n",
    "    # Validate if the column exists in the DataFrame\n",
    "    if column not in df.columns:\n",
    "        print(f\"Error: Column '{column}' not found in the DataFrame.\")\n",
    "        return\n",
    "    \n",
    "    # Drop missing values in the selected column\n",
    "    data = df[column].dropna()\n",
    "    \n",
    "    # Perform the ADF test\n",
    "    result = adfuller(data)\n",
    "    \n",
    "    # Print the test results\n",
    "    print(f\"ADF Statistic: {result[0]:.4f}\")\n",
    "    print(f\"p-value: {result[1]:.4f}\")\n",
    "    print(f\"Critical Values: {result[4]}\")\n",
    "    \n",
    "    # Check the p-value to decide stationarity\n",
    "    if result[1] <= 0.05:\n",
    "        print(\"Reject null hypothesis (data is stationary).\")\n",
    "    else:\n",
    "        print(\"Fail to reject null hypothesis (data is non-stationary).\")\n",
    "\n",
    "# Apply the stationarity check on the numeric column (e.g., 'transaction_data')\n",
    "check_stationarity(df_transaction, column='transactions', title='Transaction Data')"
   ]
  },
  {
   "cell_type": "markdown",
   "metadata": {},
   "source": [
    "### Fit ARIMA Model\n",
    "ARIMA REQUIRES 3 PARAMETERS:\n",
    "- p(AR):Autoregressive terms\n",
    "- d(I):Differencing order\n",
    "- q(MA): Moving Average\n",
    "\n",
    "Here we will use first order differencing to make the data stationary\n"
   ]
  },
  {
   "cell_type": "code",
   "execution_count": 44,
   "metadata": {},
   "outputs": [
    {
     "name": "stdout",
     "output_type": "stream",
     "text": [
      "Performing stepwise search to minimize aic\n",
      " ARIMA(2,1,2)(0,0,0)[0] intercept   : AIC=inf, Time=78.26 sec\n",
      " ARIMA(0,1,0)(0,0,0)[0] intercept   : AIC=1370457.889, Time=1.29 sec\n",
      " ARIMA(1,1,0)(0,0,0)[0] intercept   : AIC=1362169.673, Time=1.73 sec\n",
      " ARIMA(0,1,1)(0,0,0)[0] intercept   : AIC=1357240.650, Time=5.30 sec\n",
      " ARIMA(0,1,0)(0,0,0)[0]             : AIC=1370455.889, Time=0.70 sec\n",
      " ARIMA(1,1,1)(0,0,0)[0] intercept   : AIC=inf, Time=43.94 sec\n",
      " ARIMA(0,1,2)(0,0,0)[0] intercept   : AIC=1354840.083, Time=8.23 sec\n",
      " ARIMA(1,1,2)(0,0,0)[0] intercept   : AIC=1354005.374, Time=13.95 sec\n",
      " ARIMA(1,1,3)(0,0,0)[0] intercept   : AIC=1353905.362, Time=24.69 sec\n",
      " ARIMA(0,1,3)(0,0,0)[0] intercept   : AIC=1354817.520, Time=16.18 sec\n",
      " ARIMA(2,1,3)(0,0,0)[0] intercept   : AIC=1353565.832, Time=43.90 sec\n",
      " ARIMA(3,1,3)(0,0,0)[0] intercept   : AIC=inf, Time=110.35 sec\n",
      " ARIMA(2,1,4)(0,0,0)[0] intercept   : AIC=1347870.688, Time=79.42 sec\n",
      " ARIMA(1,1,4)(0,0,0)[0] intercept   : AIC=inf, Time=91.07 sec\n",
      " ARIMA(3,1,4)(0,0,0)[0] intercept   : AIC=inf, Time=117.53 sec\n",
      " ARIMA(2,1,5)(0,0,0)[0] intercept   : AIC=inf, Time=138.47 sec\n",
      " ARIMA(1,1,5)(0,0,0)[0] intercept   : AIC=inf, Time=189.47 sec\n",
      " ARIMA(3,1,5)(0,0,0)[0] intercept   : AIC=inf, Time=189.06 sec\n",
      " ARIMA(2,1,4)(0,0,0)[0]             : AIC=1347868.687, Time=50.56 sec\n",
      " ARIMA(1,1,4)(0,0,0)[0]             : AIC=inf, Time=89.46 sec\n",
      " ARIMA(2,1,3)(0,0,0)[0]             : AIC=1353563.832, Time=25.42 sec\n",
      " ARIMA(3,1,4)(0,0,0)[0]             : AIC=inf, Time=60.80 sec\n",
      " ARIMA(2,1,5)(0,0,0)[0]             : AIC=inf, Time=50.44 sec\n",
      " ARIMA(1,1,3)(0,0,0)[0]             : AIC=1353903.362, Time=10.01 sec\n",
      " ARIMA(1,1,5)(0,0,0)[0]             : AIC=inf, Time=75.16 sec\n",
      " ARIMA(3,1,3)(0,0,0)[0]             : AIC=inf, Time=55.32 sec\n",
      " ARIMA(3,1,5)(0,0,0)[0]             : AIC=inf, Time=69.46 sec\n",
      "\n",
      "Best model:  ARIMA(2,1,4)(0,0,0)[0]          \n",
      "Total fit time: 1640.254 seconds\n",
      "                               SARIMAX Results                                \n",
      "==============================================================================\n",
      "Dep. Variable:                      y   No. Observations:                83488\n",
      "Model:               SARIMAX(2, 1, 4)   Log Likelihood             -673927.344\n",
      "Date:                Tue, 14 Jan 2025   AIC                        1347868.687\n",
      "Time:                        14:07:39   BIC                        1347934.014\n",
      "Sample:                             0   HQIC                       1347888.675\n",
      "                              - 83488                                         \n",
      "Covariance Type:                  opg                                         \n",
      "==============================================================================\n",
      "                 coef    std err          z      P>|z|      [0.025      0.975]\n",
      "------------------------------------------------------------------------------\n",
      "ar.L1         -0.4544      0.007    -69.153      0.000      -0.467      -0.442\n",
      "ar.L2         -0.6633      0.006   -102.250      0.000      -0.676      -0.651\n",
      "ma.L1          0.0351      0.007      5.262      0.000       0.022       0.048\n",
      "ma.L2          0.2878      0.006     44.859      0.000       0.275       0.300\n",
      "ma.L3         -0.3270      0.005    -70.541      0.000      -0.336      -0.318\n",
      "ma.L4         -0.3824      0.003   -115.451      0.000      -0.389      -0.376\n",
      "sigma2      6.134e+05   2119.657    289.381      0.000    6.09e+05    6.18e+05\n",
      "===================================================================================\n",
      "Ljung-Box (L1) (Q):                  14.37   Jarque-Bera (JB):             57467.92\n",
      "Prob(Q):                              0.00   Prob(JB):                         0.00\n",
      "Heteroskedasticity (H):               0.97   Skew:                             1.04\n",
      "Prob(H) (two-sided):                  0.02   Kurtosis:                         6.49\n",
      "===================================================================================\n",
      "\n",
      "Warnings:\n",
      "[1] Covariance matrix calculated using the outer product of gradients (complex-step).\n"
     ]
    }
   ],
   "source": [
    "## differencing the dta\n",
    "\n",
    "auto_model=auto_arima(\n",
    "    df_transaction['transactions'],\n",
    "    seasonal=False,\n",
    "    trace=True,\n",
    "    error_action='ignore',\n",
    "    suppress_warnings=True,\n",
    "    stepwise=True\n",
    ")\n",
    "print(auto_model.summary())\n"
   ]
  },
  {
   "cell_type": "code",
   "execution_count": 47,
   "metadata": {},
   "outputs": [],
   "source": [
    "p, d, q =auto_model.order\n",
    "\n",
    "# Fit ARIMA model\n",
    "model=ARIMA(df_transaction['transactions'],order=(p, d, q))\n",
    "arima_result =model.fit()\n"
   ]
  },
  {
   "cell_type": "code",
   "execution_count": null,
   "metadata": {},
   "outputs": [],
   "source": []
  },
  {
   "cell_type": "code",
   "execution_count": 48,
   "metadata": {},
   "outputs": [
    {
     "data": {
      "image/png": "[encoded data removed]",
      "text/plain": [
       "<Figure size 1000x600 with 1 Axes>"
      ]
     },
     "metadata": {},
     "output_type": "display_data"
    }
   ],
   "source": [
    "plt.figure(figsize=(10,6))\n",
    "plt.plot(df_transaction['transactions'],label='transactions')\n",
    "plt.plot(arima_result.fittedvalues,label='Fitted Values',color='red')\n",
    "plt.legend()\n",
    "plt.title('ARIMA MODEL')\n",
    "plt.show()"
   ]
  },
  {
   "cell_type": "code",
   "execution_count": 50,
   "metadata": {},
   "outputs": [
    {
     "data": {
      "image/png": "[encoded data removed]",
      "text/plain": [
       "<Figure size 1000x600 with 1 Axes>"
      ]
     },
     "metadata": {},
     "output_type": "display_data"
    }
   ],
   "source": [
    "# Forecast future values (e.g., next 10 periods)\n",
    "forecast_steps = 10\n",
    "forecast = arima_result.get_forecast(steps=forecast_steps)\n",
    "forecast_index = pd.date_range(\n",
    "    start=df_transaction.index[-1],\n",
    "    periods=forecast_steps + 1,  # Include the starting point\n",
    "    freq='D'  # Adjust frequency as needed\n",
    ")[1:]\n",
    "\n",
    "# Get forecasted values and confidence intervals\n",
    "forecast_values = forecast.predicted_mean\n",
    "forecast_conf_int = forecast.conf_int()\n",
    "\n",
    "# Plot original data and forecasts\n",
    "plt.figure(figsize=(10, 6))\n",
    "plt.plot(df_transaction['transactions'], label='Original Data')\n",
    "plt.plot(forecast_index, forecast_values, label='Forecast', color='green')\n",
    "plt.fill_between(\n",
    "    forecast_index, \n",
    "    forecast_conf_int.iloc[:, 0], \n",
    "    forecast_conf_int.iloc[:, 1], \n",
    "    color='lightgreen', alpha=0.3, label='Confidence Interval'\n",
    ")\n",
    "plt.legend()\n",
    "plt.title('ARIMA Model - Forecast')\n",
    "plt.show()"
   ]
  },
  {
   "cell_type": "code",
   "execution_count": 51,
   "metadata": {},
   "outputs": [
    {
     "data": {
      "image/png": "[encoded data removed]",
      "text/plain": [
       "<Figure size 1000x600 with 1 Axes>"
      ]
     },
     "metadata": {},
     "output_type": "display_data"
    }
   ],
   "source": [
    "# Add the last observed value to forecasted differences\n",
    "forecast_original_scale = forecast_values.cumsum() + df_transaction['transactions'].iloc[-1]\n",
    "\n",
    "# Plot the forecasts in the original scale\n",
    "plt.figure(figsize=(10, 6))\n",
    "plt.plot(df_transaction['transactions'], label='Original Data')\n",
    "plt.plot(forecast_index, forecast_original_scale, label='Forecast (Original Scale)', color='green')\n",
    "plt.legend()\n",
    "plt.title('ARIMA Forecast (Original Scale)')\n",
    "plt.show()"
   ]
  },
  {
   "cell_type": "markdown",
   "metadata": {},
   "source": [
    "## <b><i> CRUDE OIL PRICES CHANGES OVER TIME</i></b>"
   ]
  },
  {
   "cell_type": "code",
   "execution_count": null,
   "metadata": {},
   "outputs": [],
   "source": [
    "df_oil.set_index(\"dat\")"
   ]
  }
 ],
 "metadata": {
  "kernelspec": {
   "display_name": "Python 3",
   "language": "python",
   "name": "python3"
  },
  "language_info": {
   "codemirror_mode": {
    "name": "ipython",
    "version": 3
   },
   "file_extension": ".py",
   "mimetype": "text/x-python",
   "name": "python",
   "nbconvert_exporter": "python",
   "pygments_lexer": "ipython3",
   "version": "3.11.3"
  }
 },
 "nbformat": 4,
 "nbformat_minor": 2
}
