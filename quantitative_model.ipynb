{
 "cells": [
  {
   "cell_type": "markdown",
   "metadata": {},
   "source": [
    "## <b><u> Time series Forecasting for Favorita Store Sales </b></u>\n",
    "   - `In this project we will be building a regression model and understand hw to use it`\n",
    "   - `We will also examine the correlation coeffcient,multiple regression  and logisti regression methods`\n",
    "   - `using logistic regression we will be able to estimate the probability of the business success over give period of time`\n",
    "   - `finally; develop a time series Analysis`\n",
    "\n"
   ]
  },
  {
   "cell_type": "markdown",
   "metadata": {},
   "source": [
    "### <u><b><i> Description </u></b></i>\n",
    "` As a data scientist, I will be looking at a favorita  grocery stores data  and predict a little over time based on th sales performance previously... </ `\n",
    " - The Favorita Grocery Sales Forecasting competition is a time series forecasting competition hosted by the Favorita Food Markets Association. The goal is to predict the sales of various products sold in multiple locations over time. The dataset provided includes sales data, promotions, and other relevant features.\n",
    " - `The dataset includes;;;;;;;;;;;;`\n",
    "- train.csv: includes store_number, family, onpromotion and target sales\n",
    "- test.csv: same as train.csv(predict sales data)\n",
    "- transaction.csv: date,store_number,transation \n",
    "- sample_submission.csv: \n",
    "- stores.csv: store metabase including city, state,type and cluster\n",
    " - oils.csv: daily oil price\n",
    " - holidays_events.csv: Holidays events\n",
    " ## Questions\n",
    " 1. Is the train dataset complete (has all the required dates)?\n",
    " 2. Which dates have the lowest and highest sales for each year (excluding days the store was closed)\n",
    " 3. Compare the sales for each month across the years and determine which month of which year had the highest sales. \n",
    " 4. Did the earthquake impact sales?\n",
    " 5. Are certain stores or groups of stores selling more products? (Cluster, city, state, type)\n",
    " 6. Are sales affected by promotions, oil prices and holidays\n",
    " 7. What analysis can we get from the date and its extractable features?\n",
    " 8. Which product family and stores did the promotions affect.\n",
    " 9. What is the difference between RMSLE, RMSE, MSE (or why is the MAE greater than all of them?)\n",
    " 10. Does the payment of wages in the public sector on the 15th and last days of the month influence the store sales.\n",
    " ### <u><b><i> HYPOTHESIS</u></b></i>\n",
    "Null hypothesis;`The type of holiday does not have any significance on the increase of sales`\n",
    "Alternative hypothesis; `The type of holiday do have significant on the increase of sales`"
   ]
  },
  {
   "cell_type": "code",
   "execution_count": 16,
   "metadata": {},
   "outputs": [],
   "source": [
    "#installing pyodbc & python-dotenv\n",
    "import pyodbc\n",
    "from dotenv import dotenv_values\n",
    "import pandas as pd\n",
    "import warnings\n",
    "warnings.filterwarnings(\"ignore\")"
   ]
  },
  {
   "cell_type": "code",
   "execution_count": 17,
   "metadata": {},
   "outputs": [],
   "source": [
    "#load environment variable from .env file\n",
    "environment_variable =dotenv_values('.env')\n",
    "#we get the credentails  fro th env file\n",
    "database=environment_variable.get('DATABASE')\n",
    "server=environment_variable.get('SERVER')\n",
    "username=environment_variable.get('USERNAME')\n",
    "password=environment_variable.get('PASSWORD')\n",
    "# Establish connection\n",
    "connection_string= f\"DRIVER={{SQL Server}};SERVER={server};DATABASE={database};UID={username};PWD={password};MARS_Connection=yes;MinProtocolVersion=TLSv1.2;\""
   ]
  },
  {
   "cell_type": "code",
   "execution_count": 18,
   "metadata": {},
   "outputs": [
    {
     "ename": "OperationalError",
     "evalue": "('08001', '[08001] [Microsoft][ODBC SQL Server Driver][DBNETLIB]SQL Server does not exist or access denied. (17) (SQLDriverConnect); [08001] [Microsoft][ODBC SQL Server Driver][DBNETLIB]ConnectionOpen (Connect()). (53); [08001] [Microsoft][ODBC SQL Server Driver]Invalid connection string attribute (0)')",
     "output_type": "error",
     "traceback": [
      "\u001b[1;31m---------------------------------------------------------------------------\u001b[0m",
      "\u001b[1;31mOperationalError\u001b[0m                          Traceback (most recent call last)",
      "Cell \u001b[1;32mIn[18], line 2\u001b[0m\n\u001b[0;32m      1\u001b[0m \u001b[38;5;66;03m#We need to use the connection method that is the pyodbc library\u001b[39;00m\n\u001b[1;32m----> 2\u001b[0m connection\u001b[38;5;241m=\u001b[39m\u001b[43mpyodbc\u001b[49m\u001b[38;5;241;43m.\u001b[39;49m\u001b[43mconnect\u001b[49m\u001b[43m(\u001b[49m\u001b[43mconnection_string\u001b[49m\u001b[43m)\u001b[49m\n",
      "\u001b[1;31mOperationalError\u001b[0m: ('08001', '[08001] [Microsoft][ODBC SQL Server Driver][DBNETLIB]SQL Server does not exist or access denied. (17) (SQLDriverConnect); [08001] [Microsoft][ODBC SQL Server Driver][DBNETLIB]ConnectionOpen (Connect()). (53); [08001] [Microsoft][ODBC SQL Server Driver]Invalid connection string attribute (0)')"
     ]
    }
   ],
   "source": [
    "#We need to use the connection method that is the pyodbc library\n",
    "connection=pyodbc.connect(connection_string)"
   ]
  }
 ],
 "metadata": {
  "kernelspec": {
   "display_name": "Python 3",
   "language": "python",
   "name": "python3"
  },
  "language_info": {
   "codemirror_mode": {
    "name": "ipython",
    "version": 3
   },
   "file_extension": ".py",
   "mimetype": "text/x-python",
   "name": "python",
   "nbconvert_exporter": "python",
   "pygments_lexer": "ipython3",
   "version": "3.11.3"
  }
 },
 "nbformat": 4,
 "nbformat_minor": 2
}
