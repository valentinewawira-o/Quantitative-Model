{
 "cells": [
  {
   "cell_type": "markdown",
   "metadata": {},
   "source": [
    "## <b><u> Time series Forecasting for Favorita Store Sales </b></u>\n",
    "   - `In this project we will be building a regression model and understand hw to use it`\n",
    "   - `We will also examine the correlation coeffcient,multiple regression  and logisti regression methods`\n",
    "   - `using logistic regression we will be able to estimate the probability of the business success over give period of time`\n",
    "   - `finally; develop a time series Analysis`\n",
    "\n"
   ]
  },
  {
   "cell_type": "markdown",
   "metadata": {},
   "source": [
    "### <u><b><i> Description </u></b></i>\n",
    "` As a data scientist, I will be looking at a favorita  grocery stores data  and predict a little over time based on th sales performance previously... </ `\n",
    " - The Favorita Grocery Sales Forecasting competition is a time series forecasting competition hosted by the Favorita Food Markets Association. The goal is to predict the sales of various products sold in multiple locations over time. The dataset provided includes sales data, promotions, and other relevant features.\n",
    " - `The dataset includes;;;;;;;;;;;;`\n",
    "- train.csv: includes store_number, family, onpromotion and target sales\n",
    "- test.csv: same as train.csv(predict sales data)\n",
    "- transaction.csv: date,store_number,transation \n",
    "- sample_submission.csv: \n",
    "- stores.csv: store metabase including city, state,type and cluster\n",
    " - oils.csv: daily oil price\n",
    " - holidays_events.csv: Holidays events\n",
    " ## Questions\n",
    " 1. Is the train dataset complete (has all the required dates)?\n",
    " 2. Which dates have the lowest and highest sales for each year (excluding days the store was closed)\n",
    " 3. Compare the sales for each month across the years and determine which month of which year had the highest sales. \n",
    " 4. Did the earthquake impact sales?\n",
    " 5. Are certain stores or groups of stores selling more products? (Cluster, city, state, type)\n",
    " 6. Are sales affected by promotions, oil prices and holidays\n",
    " 7. What analysis can we get from the date and its extractable features?\n",
    " 8. Which product family and stores did the promotions affect.\n",
    " 9. What is the difference between RMSLE, RMSE, MSE (or why is the MAE greater than all of them?)\n",
    " 10. Does the payment of wages in the public sector on the 15th and last days of the month influence the store sales.\n",
    " ### <u><b><i> HYPOTHESIS</u></b></i>\n",
    "Null hypothesis;`The type of holiday does not have any significance on the increase of sales`\n",
    "Alternative hypothesis; `The type of holiday do have significant on the increase of sales`"
   ]
  },
  {
   "cell_type": "code",
   "execution_count": 1,
   "metadata": {},
   "outputs": [],
   "source": [
    "#installing pyodbc & python-dotenv\n",
    "import pyodbc\n",
    "from dotenv import dotenv_values\n",
    "import pandas as pd\n",
    "import warnings\n",
    "warnings.filterwarnings(\"ignore\")"
   ]
  },
  {
   "cell_type": "code",
   "execution_count": 2,
   "metadata": {},
   "outputs": [],
   "source": [
    "#load environment variable from .env file\n",
    "environment_variable =dotenv_values('.env')\n",
    "#we get the credentails  fro th env file\n",
    "database=environment_variable.get('DATABASE')\n",
    "server=environment_variable.get('SERVER')\n",
    "username=environment_variable.get('USERNAME')\n",
    "password=environment_variable.get('PASSWORD')\n",
    "# Establish connection\n",
    "connection_string= f\"DRIVER={{SQL Server}};SERVER={server};DATABASE={database};UID={username};PWD={password};MARS_Connection=yes;MinProtocolVersion=TLSv1.2;\""
   ]
  },
  {
   "cell_type": "code",
   "execution_count": 3,
   "metadata": {},
   "outputs": [],
   "source": [
    "#We need to use the connection method that is the pyodbc library\n",
    "connection=pyodbc.connect(connection_string)"
   ]
  },
  {
   "cell_type": "code",
   "execution_count": 4,
   "metadata": {},
   "outputs": [],
   "source": [
    "#SQL query to get the dat \n",
    "query_oil=\"SELECT* FROM dbo.oil\"\n",
    "query_stores=\"SELECT* FROM dbo.stores\"\n",
    "query_holidays_events=\"SELECT* FROM dbo.holidays_events\"\n",
    "df_oil=pd.read_sql(query_oil,connection)\n",
    "df_stores=pd.read_sql(query_stores,connection)\n",
    "df_holidays_events=pd.read_sql(query_holidays_events,connection)\n",
    "# Close the connection\n",
    "\n",
    "\n",
    "\n"
   ]
  },
  {
   "cell_type": "code",
   "execution_count": 6,
   "metadata": {},
   "outputs": [],
   "source": [
    "#load csv data set\n",
    "df_test=pd.read_csv(\"test.csv\")\n",
    "df_transactions=pd.read_csv(\"transactions.csv\")\n",
    "df_sample_submission=pd.read_csv(\"sample_submission.csv\")\n",
    "\n",
    "\n"
   ]
  },
  {
   "cell_type": "code",
   "execution_count": 7,
   "metadata": {},
   "outputs": [
    {
     "name": "stdout",
     "output_type": "stream",
     "text": [
      "holiday summary:\n"
     ]
    },
    {
     "data": {
      "text/html": [
       "<div>\n",
       "<style scoped>\n",
       "    .dataframe tbody tr th:only-of-type {\n",
       "        vertical-align: middle;\n",
       "    }\n",
       "\n",
       "    .dataframe tbody tr th {\n",
       "        vertical-align: top;\n",
       "    }\n",
       "\n",
       "    .dataframe thead th {\n",
       "        text-align: right;\n",
       "    }\n",
       "</style>\n",
       "<table border=\"1\" class=\"dataframe\">\n",
       "  <thead>\n",
       "    <tr style=\"text-align: right;\">\n",
       "      <th></th>\n",
       "      <th>count</th>\n",
       "      <th>unique</th>\n",
       "      <th>top</th>\n",
       "      <th>freq</th>\n",
       "    </tr>\n",
       "  </thead>\n",
       "  <tbody>\n",
       "    <tr>\n",
       "      <th>date</th>\n",
       "      <td>350</td>\n",
       "      <td>312</td>\n",
       "      <td>2014-06-25</td>\n",
       "      <td>4</td>\n",
       "    </tr>\n",
       "    <tr>\n",
       "      <th>type</th>\n",
       "      <td>350</td>\n",
       "      <td>6</td>\n",
       "      <td>Holiday</td>\n",
       "      <td>221</td>\n",
       "    </tr>\n",
       "    <tr>\n",
       "      <th>locale</th>\n",
       "      <td>350</td>\n",
       "      <td>3</td>\n",
       "      <td>National</td>\n",
       "      <td>174</td>\n",
       "    </tr>\n",
       "    <tr>\n",
       "      <th>locale_name</th>\n",
       "      <td>350</td>\n",
       "      <td>24</td>\n",
       "      <td>Ecuador</td>\n",
       "      <td>174</td>\n",
       "    </tr>\n",
       "    <tr>\n",
       "      <th>description</th>\n",
       "      <td>350</td>\n",
       "      <td>103</td>\n",
       "      <td>Carnaval</td>\n",
       "      <td>10</td>\n",
       "    </tr>\n",
       "    <tr>\n",
       "      <th>transferred</th>\n",
       "      <td>350</td>\n",
       "      <td>2</td>\n",
       "      <td>False</td>\n",
       "      <td>338</td>\n",
       "    </tr>\n",
       "  </tbody>\n",
       "</table>\n",
       "</div>"
      ],
      "text/plain": [
       "            count unique         top freq\n",
       "date          350    312  2014-06-25    4\n",
       "type          350      6     Holiday  221\n",
       "locale        350      3    National  174\n",
       "locale_name   350     24     Ecuador  174\n",
       "description   350    103    Carnaval   10\n",
       "transferred   350      2       False  338"
      ]
     },
     "metadata": {},
     "output_type": "display_data"
    },
    {
     "name": "stdout",
     "output_type": "stream",
     "text": [
      "****************************************\n",
      "Store Summary:\n"
     ]
    },
    {
     "data": {
      "text/html": [
       "<div>\n",
       "<style scoped>\n",
       "    .dataframe tbody tr th:only-of-type {\n",
       "        vertical-align: middle;\n",
       "    }\n",
       "\n",
       "    .dataframe tbody tr th {\n",
       "        vertical-align: top;\n",
       "    }\n",
       "\n",
       "    .dataframe thead th {\n",
       "        text-align: right;\n",
       "    }\n",
       "</style>\n",
       "<table border=\"1\" class=\"dataframe\">\n",
       "  <thead>\n",
       "    <tr style=\"text-align: right;\">\n",
       "      <th></th>\n",
       "      <th>count</th>\n",
       "      <th>mean</th>\n",
       "      <th>std</th>\n",
       "      <th>min</th>\n",
       "      <th>25%</th>\n",
       "      <th>50%</th>\n",
       "      <th>75%</th>\n",
       "      <th>max</th>\n",
       "    </tr>\n",
       "  </thead>\n",
       "  <tbody>\n",
       "    <tr>\n",
       "      <th>store_nbr</th>\n",
       "      <td>54.0</td>\n",
       "      <td>27.500000</td>\n",
       "      <td>15.732133</td>\n",
       "      <td>1.0</td>\n",
       "      <td>14.25</td>\n",
       "      <td>27.5</td>\n",
       "      <td>40.75</td>\n",
       "      <td>54.0</td>\n",
       "    </tr>\n",
       "    <tr>\n",
       "      <th>cluster</th>\n",
       "      <td>54.0</td>\n",
       "      <td>8.481481</td>\n",
       "      <td>4.693395</td>\n",
       "      <td>1.0</td>\n",
       "      <td>4.00</td>\n",
       "      <td>8.5</td>\n",
       "      <td>13.00</td>\n",
       "      <td>17.0</td>\n",
       "    </tr>\n",
       "  </tbody>\n",
       "</table>\n",
       "</div>"
      ],
      "text/plain": [
       "           count       mean        std  min    25%   50%    75%   max\n",
       "store_nbr   54.0  27.500000  15.732133  1.0  14.25  27.5  40.75  54.0\n",
       "cluster     54.0   8.481481   4.693395  1.0   4.00   8.5  13.00  17.0"
      ]
     },
     "metadata": {},
     "output_type": "display_data"
    },
    {
     "name": "stdout",
     "output_type": "stream",
     "text": [
      "$$$$$$$$$$$$$$$$$$$$$$$$$$$$$$$$$$$$$$$$\n",
      "oil summary:\n"
     ]
    },
    {
     "data": {
      "text/html": [
       "<div>\n",
       "<style scoped>\n",
       "    .dataframe tbody tr th:only-of-type {\n",
       "        vertical-align: middle;\n",
       "    }\n",
       "\n",
       "    .dataframe tbody tr th {\n",
       "        vertical-align: top;\n",
       "    }\n",
       "\n",
       "    .dataframe thead th {\n",
       "        text-align: right;\n",
       "    }\n",
       "</style>\n",
       "<table border=\"1\" class=\"dataframe\">\n",
       "  <thead>\n",
       "    <tr style=\"text-align: right;\">\n",
       "      <th></th>\n",
       "      <th>count</th>\n",
       "      <th>mean</th>\n",
       "      <th>std</th>\n",
       "      <th>min</th>\n",
       "      <th>25%</th>\n",
       "      <th>50%</th>\n",
       "      <th>75%</th>\n",
       "      <th>max</th>\n",
       "    </tr>\n",
       "  </thead>\n",
       "  <tbody>\n",
       "    <tr>\n",
       "      <th>dcoilwtico</th>\n",
       "      <td>1175.0</td>\n",
       "      <td>67.714366</td>\n",
       "      <td>25.630476</td>\n",
       "      <td>26.190001</td>\n",
       "      <td>46.405001</td>\n",
       "      <td>53.189999</td>\n",
       "      <td>95.66</td>\n",
       "      <td>110.620003</td>\n",
       "    </tr>\n",
       "  </tbody>\n",
       "</table>\n",
       "</div>"
      ],
      "text/plain": [
       "             count       mean        std        min        25%        50%  \\\n",
       "dcoilwtico  1175.0  67.714366  25.630476  26.190001  46.405001  53.189999   \n",
       "\n",
       "              75%         max  \n",
       "dcoilwtico  95.66  110.620003  "
      ]
     },
     "metadata": {},
     "output_type": "display_data"
    },
    {
     "name": "stdout",
     "output_type": "stream",
     "text": [
      "----------------------------------------\n"
     ]
    }
   ],
   "source": [
    "##sql EDA\n",
    "#summary statisitcs for th column\n",
    "oil_sum=df_oil.describe().T\n",
    "event_sum=df_holidays_events.describe().T\n",
    "store_sum=df_stores.describe().T\n",
    "##result\n",
    "print(\"holiday summary:\")\n",
    "display(event_sum)\n",
    "print('*'*40)\n",
    "print(\"Store Summary:\")\n",
    "display(store_sum)\n",
    "print('$'*40)\n",
    "print(\"oil summary:\")\n",
    "display(oil_sum)\n",
    "print('-'*40)\n",
    "\n",
    "\n"
   ]
  },
  {
   "cell_type": "code",
   "execution_count": 8,
   "metadata": {},
   "outputs": [
    {
     "name": "stdout",
     "output_type": "stream",
     "text": [
      "event missing values:\n"
     ]
    },
    {
     "data": {
      "text/plain": [
       "date           0\n",
       "type           0\n",
       "locale         0\n",
       "locale_name    0\n",
       "description    0\n",
       "transferred    0\n",
       "dtype: int64"
      ]
     },
     "metadata": {},
     "output_type": "display_data"
    },
    {
     "name": "stdout",
     "output_type": "stream",
     "text": [
      "****************************************\n",
      "oil missing values:\n"
     ]
    },
    {
     "data": {
      "text/plain": [
       "date           0\n",
       "dcoilwtico    43\n",
       "dtype: int64"
      ]
     },
     "metadata": {},
     "output_type": "display_data"
    },
    {
     "name": "stdout",
     "output_type": "stream",
     "text": [
      "****************************************\n",
      "store missing values:\n"
     ]
    },
    {
     "data": {
      "text/plain": [
       "store_nbr    0\n",
       "city         0\n",
       "state        0\n",
       "type         0\n",
       "cluster      0\n",
       "dtype: int64"
      ]
     },
     "metadata": {},
     "output_type": "display_data"
    },
    {
     "name": "stdout",
     "output_type": "stream",
     "text": [
      "****************************************\n"
     ]
    }
   ],
   "source": [
    "#missing values\n",
    "print(\"event missing values:\")\n",
    "events_missing=df_holidays_events.isnull().sum()\n",
    "display(events_missing)\n",
    "print('*'*40)\n",
    "print(\"oil missing values:\")\n",
    "oil_missing=df_oil.isnull().sum()\n",
    "display(oil_missing)\n",
    "print('*'*40)\n",
    "print(\"store missing values:\")\n",
    "store_missing=df_stores.isnull().sum()\n",
    "display(store_missing)\n",
    "print('*'*40)"
   ]
  },
  {
   "cell_type": "code",
   "execution_count": 9,
   "metadata": {},
   "outputs": [
    {
     "name": "stdout",
     "output_type": "stream",
     "text": [
      "holiday shape:\n",
      "****************************************\n",
      "rows: 350\n",
      "column 6\n",
      "oil shape:\n",
      "****************************************\n",
      "rows: 1218\n",
      "column 2\n",
      "store shape:\n",
      "<><><><><><><><><><><><><><><><><><><><><><><><><><><><><><><><><><><><><><><><>\n",
      "rows: 54\n",
      "column: 5\n"
     ]
    }
   ],
   "source": [
    "print(\"holiday shape:\")\n",
    "print('*'*40)\n",
    "holiday_shape=df_holidays_events.shape\n",
    "print(\"rows:\",holiday_shape[0])\n",
    "print(\"column\",holiday_shape[1])\n",
    "#oilshape\n",
    "print(\"oil shape:\")\n",
    "print('*'*40)\n",
    "oil_shape=df_oil.shape\n",
    "print(\"rows:\",oil_shape[0])\n",
    "print(\"column\",oil_shape[1])\n",
    "\n",
    "#store shape\n",
    "print(\"store shape:\")\n",
    "print(\"<>\"*40)\n",
    "store_shape=df_stores.shape\n",
    "print(\"rows:\",store_shape[0])\n",
    "print(\"column:\",store_shape[1])\n",
    "\n"
   ]
  },
  {
   "cell_type": "code",
   "execution_count": null,
   "metadata": {},
   "outputs": [],
   "source": []
  }
 ],
 "metadata": {
  "kernelspec": {
   "display_name": "Python 3",
   "language": "python",
   "name": "python3"
  },
  "language_info": {
   "codemirror_mode": {
    "name": "ipython",
    "version": 3
   },
   "file_extension": ".py",
   "mimetype": "text/x-python",
   "name": "python",
   "nbconvert_exporter": "python",
   "pygments_lexer": "ipython3",
   "version": "3.11.3"
  }
 },
 "nbformat": 4,
 "nbformat_minor": 2
}
